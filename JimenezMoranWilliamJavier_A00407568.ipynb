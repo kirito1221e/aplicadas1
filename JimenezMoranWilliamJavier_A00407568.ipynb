{
  "nbformat": 4,
  "nbformat_minor": 0,
  "metadata": {
    "colab": {
      "provenance": [],
      "authorship_tag": "ABX9TyO8AUQayRE6Wiz0OOk/bfux",
      "include_colab_link": true
    },
    "kernelspec": {
      "name": "python3",
      "display_name": "Python 3"
    },
    "language_info": {
      "name": "python"
    }
  },
  "cells": [
    {
      "cell_type": "markdown",
      "metadata": {
        "id": "view-in-github",
        "colab_type": "text"
      },
      "source": [
        "<a href=\"https://colab.research.google.com/github/kirito1221e/aplicadas1/blob/main/JimenezMoranWilliamJavier_A00407568.ipynb\" target=\"_parent\"><img src=\"https://colab.research.google.com/assets/colab-badge.svg\" alt=\"Open In Colab\"/></a>"
      ]
    },
    {
      "cell_type": "markdown",
      "source": [
        "#Actividad autobiografia\n",
        "\n",
        "Buenas tardes, mi nombre es William Javier Jiménez Morán. Tengo 17 años, nací en Tuluá el 21 de diciembre del 2006, pero desde pequeño vivo en Cali. Me gustan los animales, jugar en el Play, tocar batería, entre otras cosas. Mi primer colegio fue el Liceo Mayor Mixto Tercer Milenio, pero en noveno grado fui al Colegio Parroquial San Joaquín, donde me gradué.\n",
        "\n",
        "Mi primera opción para estudiar no fue Ingeniería en Sistemas, sino que fue Medicina, pero por miedo terminé pensándolo mejor. Mi segunda opción era esta carrera, y en ICESI se me ofreció una gran oportunidad. Entonces, empecé a estudiar aquí, donde espero terminar muy bien mi carrera y hacer muchas amistades.\n",
        "\n",
        "Mi mayor sueño cuando termine mis estudios es conocer todo el mundo, o lo que más pueda de él, y espero con todas mis fuerzas cumplirlo. Entre los lugares que me gustaría visitar primero serían Inglaterra, Suiza, Italia y Japón.\n",
        "\n",
        "<img src=\"https://i.ytimg.com/vi/5auiFbz9AV4/maxresdefault.jpg\"\n",
        "width=\"300\"  height=\"200\">\n",
        "\n",
        "## *canciones*\n",
        ">**cum laude**\n",
        ">>Artista: José madero\n",
        ">>>compositores: José Madero\n",
        "\n",
        ">**the night we met**\n",
        ">>Artista: Lord Huron\n",
        ">>>Compositores: Benjamin Emery Schneider\n",
        "\n",
        ">**Apocalypse**\n",
        ">>Artista: Cigarettes After Sex\n",
        ">>>Compositores: Gregory Gonzalez\n",
        "\n",
        ">**Desesperado**\n",
        ">>Artista: Andrés Cepeda\n",
        ">>>Compositores: Tommy Torres\n",
        "\n",
        ">**Luna**\n",
        ">>Artista: Zoé\n",
        ">>>Compositores: Leon Ruben Larregui Marin / Sergio Eduardo Acosta Russek / Jesus Baez Caballero / Rodrigo Guardiola Zierold / Angel Antonio Mosqueda Dominguez\n",
        "\n",
        "#Asignaturas favoritas\n",
        "|"
      ],
      "metadata": {
        "id": "u_728X9_oOaD"
      }
    },
    {
      "cell_type": "code",
      "execution_count": null,
      "metadata": {
        "id": "ZDP07T5enIzV"
      },
      "outputs": [],
      "source": []
    }
  ]
}