{
  "nbformat": 4,
  "nbformat_minor": 0,
  "metadata": {
    "colab": {
      "provenance": [],
      "authorship_tag": "ABX9TyNSRDrrgpEthv7J8GRpAuyC",
      "include_colab_link": true
    },
    "kernelspec": {
      "name": "python3",
      "display_name": "Python 3"
    },
    "language_info": {
      "name": "python"
    }
  },
  "cells": [
    {
      "cell_type": "markdown",
      "metadata": {
        "id": "view-in-github",
        "colab_type": "text"
      },
      "source": [
        "<a href=\"https://colab.research.google.com/github/kirito1221e/aplicadas1/blob/main/Untitled0.ipynb\" target=\"_parent\"><img src=\"https://colab.research.google.com/assets/colab-badge.svg\" alt=\"Open In Colab\"/></a>"
      ]
    },
    {
      "cell_type": "code",
      "execution_count": 42,
      "metadata": {
        "colab": {
          "base_uri": "https://localhost:8080/"
        },
        "id": "hkKyUH6HhnVT",
        "outputId": "ff60fb1f-abe4-449f-b79b-ec50c50def89"
      },
      "outputs": [
        {
          "output_type": "stream",
          "name": "stdout",
          "text": [
            "-7\n",
            "1\n",
            "2\n"
          ]
        }
      ],
      "source": [
        "x=[-9,-1,3]\n",
        "y=[-9,-1,3]\n",
        "z=[-9,-1,3]\n",
        "for x in x:\n",
        "    if x<-3:\n",
        "      print (x+2)\n",
        "for x in y:\n",
        "  if -3<=x and x<0:\n",
        "        print (-(x))\n",
        "for x in z:\n",
        "  if x>=0:\n",
        "    print (2)\n",
        "\n",
        "\n",
        "\n"
      ]
    },
    {
      "cell_type": "code",
      "source": [
        "a=int(input(\"ingrese un numero\"))\n",
        "b=int(input(\"ingresa el otro numero\"))\n",
        "x=[-1,0,3]\n",
        "y=[-1,0,3]\n",
        "z=[-1,0,3]\n",
        "for x in x:\n",
        "  if x<0:\n",
        "    print (a-(x**2))\n",
        "for x in y:\n",
        "  if 0<=x and x<=1:\n",
        "    print(2)\n",
        "for x in y:\n",
        "  if x>1:\n",
        "    print ((x**2)-(2*x)+b)\n",
        ""
      ],
      "metadata": {
        "colab": {
          "base_uri": "https://localhost:8080/"
        },
        "id": "ogyEsCVM5uS1",
        "outputId": "5aa52d38-da83-4fc6-a4c8-8734abc3b354"
      },
      "execution_count": 63,
      "outputs": [
        {
          "output_type": "stream",
          "name": "stdout",
          "text": [
            "ingrese un numero1\n",
            "ingresa el otro numero0\n",
            "0\n",
            "2\n",
            "3\n"
          ]
        }
      ]
    }
  ]
}